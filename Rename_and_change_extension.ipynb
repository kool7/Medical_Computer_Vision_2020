{
 "cells": [
  {
   "cell_type": "markdown",
   "metadata": {},
   "source": [
    "# Rename Images.\n",
    "\n",
    "Below lines of code will save lots of your time. It takes images from one directory and change their names as well as converrt those images to desired format."
   ]
  },
  {
   "cell_type": "code",
   "execution_count": 28,
   "metadata": {},
   "outputs": [],
   "source": [
    "# Loading libraries\n",
    "import os\n",
    "import cv2\n",
    "import csv\n",
    "import glob\n",
    "import shutil\n",
    "# import pydicom\n",
    "import pandas as pd\n",
    "from PIL import Image\n",
    "from pathlib import Path\n",
    "import matplotlib.pyplot as plt"
   ]
  },
  {
   "cell_type": "code",
   "execution_count": 53,
   "metadata": {},
   "outputs": [],
   "source": [
    "# Define directories\n",
    "\n",
    "INPUT = 'D:\\\\Projects\\\\Covid19\\\\data\\\\Covid\\\\'\n",
    "# OUTPUT = 'D:\\\\Projects\\\\Covid19\\\\data\\\\Cropped\\\\COVID_N\\\\'"
   ]
  },
  {
   "cell_type": "code",
   "execution_count": 54,
   "metadata": {},
   "outputs": [],
   "source": [
    "# for count, filename in enumerate(os.listdir(INPUT)):\n",
    "#     root_ext = os.path.splitext(filename)\n",
    "#     dst = \"OTHERS_IMG_\" + str(count) + root_ext[1]\n",
    "#     src = INPUT + filename\n",
    "#     dst = INPUT + dst\n",
    "#     os.rename(src, dst)"
   ]
  },
  {
   "cell_type": "code",
   "execution_count": 56,
   "metadata": {},
   "outputs": [],
   "source": [
    "count = int(\"30806\")\n",
    "\n",
    "for file in os.listdir(INPUT):\n",
    "    filename = os.path.splitext(file)\n",
    "    new_name = \"000\" + str(count) + \"_000\"+ filename[1]\n",
    "    count += 1\n",
    "    src = INPUT + file\n",
    "    dst = INPUT + new_name\n",
    "    os.rename(src, dst)"
   ]
  },
  {
   "cell_type": "markdown",
   "metadata": {},
   "source": [
    "###############################################################################################################################"
   ]
  },
  {
   "cell_type": "markdown",
   "metadata": {},
   "source": [
    "# Change Extension to .png--.jpg--.jpeg\n",
    "\n",
    "# [NOTE] -- Also you can use windows ren command to change extension of files.\n",
    "\n",
    "ren *.name to be changed *.new extension\n",
    "\n",
    "ren *.jpeg *.png  (run the command inside the directory)"
   ]
  },
  {
   "cell_type": "code",
   "execution_count": 63,
   "metadata": {},
   "outputs": [],
   "source": [
    "for image in glob.glob(\"D:\\\\Projects\\\\Covid19\\\\data\\\\Covid\\\\*.jpeg\"):\n",
    "#     print(image)\n",
    "    im = Image.open(image)\n",
    "    im.save(image.replace(\"jpeg\", \"png\"))"
   ]
  },
  {
   "cell_type": "code",
   "execution_count": null,
   "metadata": {},
   "outputs": [],
   "source": []
  }
 ],
 "metadata": {
  "kernelspec": {
   "display_name": "Python 3",
   "language": "python",
   "name": "python3"
  },
  "language_info": {
   "codemirror_mode": {
    "name": "ipython",
    "version": 3
   },
   "file_extension": ".py",
   "mimetype": "text/x-python",
   "name": "python",
   "nbconvert_exporter": "python",
   "pygments_lexer": "ipython3",
   "version": "3.7.4"
  }
 },
 "nbformat": 4,
 "nbformat_minor": 4
}
