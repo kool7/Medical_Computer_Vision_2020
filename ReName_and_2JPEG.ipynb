{
 "cells": [
  {
   "cell_type": "markdown",
   "metadata": {},
   "source": [
    "# Convert To JPEG & Change Name Of Images.\n",
    "\n",
    "Below lines of code will save lots of your time. It takes images from one directory and change their names as well as converrt those images to desired format."
   ]
  },
  {
   "cell_type": "code",
   "execution_count": 1,
   "metadata": {},
   "outputs": [],
   "source": [
    "# Loading libraries\n",
    "import os\n",
    "import cv2\n",
    "import csv\n",
    "import glob\n",
    "import pydicom\n",
    "import pandas as pd\n",
    "from PIL import Image\n",
    "from pathlib import Path\n",
    "import matplotlib.pyplot as plt"
   ]
  },
  {
   "cell_type": "code",
   "execution_count": null,
   "metadata": {},
   "outputs": [],
   "source": [
    "# Define directories\n",
    "\n",
    "INPUT = 'input dir'\n",
    "OUTPUT = 'output dir'"
   ]
  },
  {
   "cell_type": "code",
   "execution_count": null,
   "metadata": {},
   "outputs": [],
   "source": [
    "for count, filename in enumerate(os.listdir(INPUT)):\n",
    "    dst = \"OTHERS_IMG_\" + str(count) + \".jpeg\"\n",
    "    src = INPUT + filename \n",
    "    dst = OUTPUT + dst \n",
    "    os.rename(src, dst) "
   ]
  },
  {
   "cell_type": "markdown",
   "metadata": {},
   "source": [
    "###############################################################################################################################"
   ]
  }
 ],
 "metadata": {
  "kernelspec": {
   "display_name": "cv",
   "language": "python",
   "name": "cv"
  },
  "language_info": {
   "codemirror_mode": {
    "name": "ipython",
    "version": 3
   },
   "file_extension": ".py",
   "mimetype": "text/x-python",
   "name": "python",
   "nbconvert_exporter": "python",
   "pygments_lexer": "ipython3",
   "version": "3.6.7"
  }
 },
 "nbformat": 4,
 "nbformat_minor": 4
}
