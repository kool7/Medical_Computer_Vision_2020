{
  "nbformat": 4,
  "nbformat_minor": 0,
  "metadata": {
    "colab": {
      "name": "Segmentation_Classification.ipynb",
      "provenance": [],
      "mount_file_id": "1xEjZYZEmPul3cJlJNHtwNBjXsfClb5rs",
      "authorship_tag": "ABX9TyOwQL8/P+aTKaPngmfC/qRo",
      "include_colab_link": true
    },
    "kernelspec": {
      "name": "python3",
      "display_name": "Python 3"
    }
  },
  "cells": [
    {
      "cell_type": "markdown",
      "metadata": {
        "id": "view-in-github",
        "colab_type": "text"
      },
      "source": [
        "<a href=\"https://colab.research.google.com/github/kool7/Medical_Computer_Vision_2020/blob/master/Segmentation/Segmentation_Classification.ipynb\" target=\"_parent\"><img src=\"https://colab.research.google.com/assets/colab-badge.svg\" alt=\"Open In Colab\"/></a>"
      ]
    },
    {
      "cell_type": "code",
      "metadata": {
        "id": "WMEg8RgI0AXS",
        "colab_type": "code",
        "colab": {}
      },
      "source": [
        "import pandas as pd\n",
        "import os\n",
        "import math\n",
        "from sklearn.model_selection import train_test_split\n",
        "from tensorflow.keras.utils import Sequence\n",
        "from sklearn.utils import shuffle\n",
        "import shutil\n",
        "\n",
        "import tensorflow as tf\n",
        "from tensorflow.keras.applications import DenseNet121\n",
        "from tensorflow.keras.layers import Input, AveragePooling2D, Flatten, Dense, Dropout, Lambda, Multiply, AveragePooling2D, BatchNormalization\n",
        "from tensorflow.keras.models import Model, load_model\n",
        "from tensorflow.keras.optimizers import RMSprop, Adam\n",
        "from tensorflow.keras.losses import CategoricalCrossentropy\n",
        "from tensorflow.keras.callbacks import ReduceLROnPlateau\n",
        "from tensorflow.keras import backend as K\n",
        "from time import time\n",
        "\n",
        "from matplotlib import pyplot as plt\n",
        "from sklearn import metrics\n",
        "import seaborn as sn\n",
        "\n",
        "import numpy as np\n",
        "from PIL import Image, ImageOps\n",
        "from tqdm import tqdm"
      ],
      "execution_count": 8,
      "outputs": []
    },
    {
      "cell_type": "markdown",
      "metadata": {
        "id": "Dd2V8b7N6Xjp",
        "colab_type": "text"
      },
      "source": [
        "# Data Preprocessing"
      ]
    },
    {
      "cell_type": "code",
      "metadata": {
        "id": "wKXFUyW_0s5n",
        "colab_type": "code",
        "colab": {
          "base_uri": "https://localhost:8080/",
          "height": 34
        },
        "outputId": "068ff0d5-4dc5-43cf-b527-f4e6c4c36847"
      },
      "source": [
        "# directories\n",
        "WORKING_DIR = ('/content/drive/My Drive/deepiotic/')\n",
        "INPUT_DIR = ('/content/drive/My Drive/deepiotic/Classes/')\n",
        "\n",
        "# Classes\n",
        "imgClasses = ['COVID', 'OTHERS', 'NORMAL', 'PNEUMONIA']\n",
        "\n",
        "# DIR STRUCTURE\n",
        "os.listdir(INPUT_DIR)"
      ],
      "execution_count": 4,
      "outputs": [
        {
          "output_type": "execute_result",
          "data": {
            "text/plain": [
              "['NORMAL', 'OTHERS', 'PNEUMONIA', 'COVID']"
            ]
          },
          "metadata": {
            "tags": []
          },
          "execution_count": 4
        }
      ]
    },
    {
      "cell_type": "markdown",
      "metadata": {
        "id": "IFHselc06bUh",
        "colab_type": "text"
      },
      "source": [
        "## Creating Dataframe"
      ]
    },
    {
      "cell_type": "code",
      "metadata": {
        "id": "WL5eiiG218cn",
        "colab_type": "code",
        "colab": {
          "base_uri": "https://localhost:8080/",
          "height": 84
        },
        "outputId": "3006d08c-56c0-4a52-f070-f7f2f10f0f05"
      },
      "source": [
        "# create a dataframe.\n",
        "\n",
        "def createDF(imgClasses, force = False):\n",
        "  # check if saved copy exists. If not, create\n",
        "  if os.path.isfile(f'{WORKING_DIR}imgDFnormal.csv') == False or force:\n",
        "    # creating 3 lists that contain: image name, location, and one hot encoded label.\n",
        "    imgName = []\n",
        "    imgLocation = []\n",
        "    imgLabel = []\n",
        "\n",
        "    for dir in imgClasses:\n",
        "      if dir == imgClasses[0]:\n",
        "        print(f\"{dir}: {len( os.listdir(f'{INPUT_DIR}{dir}') )}\")\n",
        "\n",
        "        # fetching img names and adding it main list\n",
        "        imgName = os.listdir(f'{INPUT_DIR}{dir}')\n",
        "\n",
        "        # adding locs to main list, after Cropped_data.\n",
        "        imgLocation = [dir] * len( os.listdir(f'{INPUT_DIR}{dir}') )\n",
        "          \n",
        "        # adding labels to main list\n",
        "        imgLabel = [imgClasses.index(dir)] * len( os.listdir(f'{INPUT_DIR}{dir}') )\n",
        "      else:\n",
        "        print(f\"{dir}: {len( os.listdir(f'{INPUT_DIR}{dir}') )}\")\n",
        "\n",
        "        # fetching img names and adding it main list\n",
        "        tempimgName = os.listdir(f'{INPUT_DIR}{dir}')\n",
        "        imgName = imgName + tempimgName\n",
        "\n",
        "        # adding locs to main list, after Cropped_data.\n",
        "        tempimgLocation = [dir] * len( os.listdir(f'{INPUT_DIR}{dir}') )\n",
        "        imgLocation = imgLocation + tempimgLocation\n",
        "\n",
        "        # adding labels to main list\n",
        "        tempimgLabel = [imgClasses.index(dir)] * len( os.listdir(f'{INPUT_DIR}{dir}') )\n",
        "        imgLabel = imgLabel + tempimgLabel\n",
        "\n",
        "\n",
        "    # now making dataframe and saving for later use\n",
        "    dfDict = {'name' : imgName, 'location' : imgLocation, 'label' : imgLabel}\n",
        "    # df = pd.DataFrame(list(zip(imgName, imgLocation, imgLabel)), columns = ['name', 'location', 'label'])\n",
        "    df = pd.DataFrame(dfDict)\n",
        "    # df.drop_duplicates(subset = 'name', keep = False, inplace = True)\n",
        "    # df.to_csv(f'{WORKING_DIR}imgDFnormal.csv', index = False)\n",
        "\n",
        "    return df\n",
        "\n",
        "  # load saved copy and return\n",
        "  else:\n",
        "    df = pd.read_csv(f'{WORKING_DIR}imgDFnormal.csv')\n",
        "    return df\n",
        "\n",
        "# load df\n",
        "df = createDF(imgClasses, force = True)"
      ],
      "execution_count": 5,
      "outputs": [
        {
          "output_type": "stream",
          "text": [
            "COVID: 1053\n",
            "OTHERS: 725\n",
            "NORMAL: 1190\n",
            "PNEUMONIA: 962\n"
          ],
          "name": "stdout"
        }
      ]
    },
    {
      "cell_type": "code",
      "metadata": {
        "id": "TxsGOTry270U",
        "colab_type": "code",
        "colab": {
          "base_uri": "https://localhost:8080/",
          "height": 402
        },
        "outputId": "fc816713-11f7-48cc-fa07-7df39387b28f"
      },
      "source": [
        "# dataframe\n",
        "df"
      ],
      "execution_count": null,
      "outputs": [
        {
          "output_type": "execute_result",
          "data": {
            "text/html": [
              "<div>\n",
              "<style scoped>\n",
              "    .dataframe tbody tr th:only-of-type {\n",
              "        vertical-align: middle;\n",
              "    }\n",
              "\n",
              "    .dataframe tbody tr th {\n",
              "        vertical-align: top;\n",
              "    }\n",
              "\n",
              "    .dataframe thead th {\n",
              "        text-align: right;\n",
              "    }\n",
              "</style>\n",
              "<table border=\"1\" class=\"dataframe\">\n",
              "  <thead>\n",
              "    <tr style=\"text-align: right;\">\n",
              "      <th></th>\n",
              "      <th>name</th>\n",
              "      <th>location</th>\n",
              "      <th>label</th>\n",
              "    </tr>\n",
              "  </thead>\n",
              "  <tbody>\n",
              "    <tr>\n",
              "      <th>0</th>\n",
              "      <td>A7E260CE-8A00-4C5F-A7F5-27336527A981.jpeg</td>\n",
              "      <td>COVID</td>\n",
              "      <td>0</td>\n",
              "    </tr>\n",
              "    <tr>\n",
              "      <th>1</th>\n",
              "      <td>all14238-fig-0001-m-c.jpg</td>\n",
              "      <td>COVID</td>\n",
              "      <td>0</td>\n",
              "    </tr>\n",
              "    <tr>\n",
              "      <th>2</th>\n",
              "      <td>all14238-fig-0002-m-d.jpg</td>\n",
              "      <td>COVID</td>\n",
              "      <td>0</td>\n",
              "    </tr>\n",
              "    <tr>\n",
              "      <th>3</th>\n",
              "      <td>all14238-fig-0002-m-e.jpg</td>\n",
              "      <td>COVID</td>\n",
              "      <td>0</td>\n",
              "    </tr>\n",
              "    <tr>\n",
              "      <th>4</th>\n",
              "      <td>all14238-fig-0002-m-f.jpg</td>\n",
              "      <td>COVID</td>\n",
              "      <td>0</td>\n",
              "    </tr>\n",
              "    <tr>\n",
              "      <th>...</th>\n",
              "      <td>...</td>\n",
              "      <td>...</td>\n",
              "      <td>...</td>\n",
              "    </tr>\n",
              "    <tr>\n",
              "      <th>3925</th>\n",
              "      <td>c4c780ea-c3f3-488b-94d3-82301a1160c4_jpg.rf.b4...</td>\n",
              "      <td>PNEUMONIA</td>\n",
              "      <td>3</td>\n",
              "    </tr>\n",
              "    <tr>\n",
              "      <th>3926</th>\n",
              "      <td>c4b25d82-38e6-4734-9e53-7c1d73912027_jpg.rf.af...</td>\n",
              "      <td>PNEUMONIA</td>\n",
              "      <td>3</td>\n",
              "    </tr>\n",
              "    <tr>\n",
              "      <th>3927</th>\n",
              "      <td>69017cf1-c8b2-4b96-bce8-7823f7fa9dd7_jpg.rf.ac...</td>\n",
              "      <td>PNEUMONIA</td>\n",
              "      <td>3</td>\n",
              "    </tr>\n",
              "    <tr>\n",
              "      <th>3928</th>\n",
              "      <td>84f07d83-e987-4a16-a083-5e8a87218532_jpg.rf.a9...</td>\n",
              "      <td>PNEUMONIA</td>\n",
              "      <td>3</td>\n",
              "    </tr>\n",
              "    <tr>\n",
              "      <th>3929</th>\n",
              "      <td>b2d2ef9e-fabe-4e70-b36a-e1e62e0a00f2_jpg.rf.aa...</td>\n",
              "      <td>PNEUMONIA</td>\n",
              "      <td>3</td>\n",
              "    </tr>\n",
              "  </tbody>\n",
              "</table>\n",
              "<p>3930 rows × 3 columns</p>\n",
              "</div>"
            ],
            "text/plain": [
              "                                                   name   location  label\n",
              "0             A7E260CE-8A00-4C5F-A7F5-27336527A981.jpeg      COVID      0\n",
              "1                             all14238-fig-0001-m-c.jpg      COVID      0\n",
              "2                             all14238-fig-0002-m-d.jpg      COVID      0\n",
              "3                             all14238-fig-0002-m-e.jpg      COVID      0\n",
              "4                             all14238-fig-0002-m-f.jpg      COVID      0\n",
              "...                                                 ...        ...    ...\n",
              "3925  c4c780ea-c3f3-488b-94d3-82301a1160c4_jpg.rf.b4...  PNEUMONIA      3\n",
              "3926  c4b25d82-38e6-4734-9e53-7c1d73912027_jpg.rf.af...  PNEUMONIA      3\n",
              "3927  69017cf1-c8b2-4b96-bce8-7823f7fa9dd7_jpg.rf.ac...  PNEUMONIA      3\n",
              "3928  84f07d83-e987-4a16-a083-5e8a87218532_jpg.rf.a9...  PNEUMONIA      3\n",
              "3929  b2d2ef9e-fabe-4e70-b36a-e1e62e0a00f2_jpg.rf.aa...  PNEUMONIA      3\n",
              "\n",
              "[3930 rows x 3 columns]"
            ]
          },
          "metadata": {
            "tags": []
          },
          "execution_count": 7
        }
      ]
    },
    {
      "cell_type": "markdown",
      "metadata": {
        "id": "Z54pKGYk6LfS",
        "colab_type": "text"
      },
      "source": [
        "## Train-Val Split "
      ]
    },
    {
      "cell_type": "code",
      "metadata": {
        "id": "N1cQ58wj6MAS",
        "colab_type": "code",
        "colab": {
          "base_uri": "https://localhost:8080/",
          "height": 134
        },
        "outputId": "0353aba1-a315-4c61-bdf7-03548f065232"
      },
      "source": [
        "# dataset loader class\n",
        "\n",
        "# split dataset into train and test\n",
        "coviddf = df[df.location == 'COVID']\n",
        "othersdf = df[df.location == 'OTHERS']\n",
        "normaldf = df[df.location == 'NORMAL']\n",
        "pneumoniadf = df[df.location == 'PNEUMONIA']\n",
        "\n",
        "print('Covid: ', len(coviddf))\n",
        "print('Others: ', len(othersdf))\n",
        "print('Normal: ', len(normaldf))\n",
        "print(f'Pneumonia: {len(pneumoniadf)}')\n",
        "\n",
        "# Creating Train-Val Split for all classes\n",
        "ctrainset, cvalset = train_test_split(coviddf, test_size=0.1)\n",
        "ntrainset, nvalset = train_test_split(normaldf, test_size=0.1)\n",
        "otrainset, ovalset = train_test_split(othersdf, test_size=0.1)\n",
        "ptrainset, pvalset = train_test_split(pneumoniadf, test_size=0.1)\n",
        "\n",
        "# recombine\n",
        "trainset = pd.concat([ctrainset, ntrainset, otrainset, ptrainset])\n",
        "valset = pd.concat([cvalset, nvalset, ovalset, pvalset])\n",
        "# testset = pd.concat([ctestset, ntestset, otestset])\n",
        "\n",
        "# shuffle\n",
        "RANDOM_STATE = 7\n",
        "trainset = shuffle(trainset, random_state = RANDOM_STATE)\n",
        "valset = shuffle(valset, random_state = RANDOM_STATE)\n",
        "\n",
        "# total number of examples in train-val split\n",
        "print('------------------------------------------------------------')\n",
        "print(f'Total number of examples in Training set: {len(trainset)}')\n",
        "print(f'Total number of examples in Validation set: {len(valset)}')"
      ],
      "execution_count": 15,
      "outputs": [
        {
          "output_type": "stream",
          "text": [
            "Covid:  1053\n",
            "Others:  725\n",
            "Normal:  1190\n",
            "Pneumonia: 962\n",
            "------------------------------------------------------------\n",
            "Total number of examples in Training set: 3535\n",
            "Total number of examples in Validation set: 395\n"
          ],
          "name": "stdout"
        }
      ]
    },
    {
      "cell_type": "markdown",
      "metadata": {
        "id": "ev8fEa822riu",
        "colab_type": "text"
      },
      "source": [
        "## Image Data Generator"
      ]
    },
    {
      "cell_type": "code",
      "metadata": {
        "id": "186AesIz8SIp",
        "colab_type": "code",
        "colab": {}
      },
      "source": [
        "# Loading Pretrained Unet Model\n",
        "unetModel = load_model('/content/drive/My Drive/deepiotic/Unet.h5')"
      ],
      "execution_count": 16,
      "outputs": []
    },
    {
      "cell_type": "code",
      "metadata": {
        "id": "5zB8Al422K3_",
        "colab_type": "code",
        "colab": {}
      },
      "source": [
        "# Custom Image Data Generator\n",
        "class DataGenerator(Sequence):\n",
        "    def __init__(self, df, batch_size=8, dim=(224, 224), dim1=(64, 64), shuffle=True, to_fit=True, classesNo = 4):\n",
        "        self.itemList = df.values.tolist()\n",
        "        self.batch_size = batch_size\n",
        "        self.shuffle = shuffle\n",
        "        self.dim = dim\n",
        "        self.dim1 = dim1\n",
        "        self.to_fit = to_fit\n",
        "        self.classesNo = classesNo\n",
        "        self.on_epoch_end()\n",
        "\n",
        "    def __len__(self):\n",
        "        return int(np.floor(len(self.itemList) / self.batch_size))\n",
        "\n",
        "    def __getitem__(self, index):\n",
        "        # Generate indexes of the batch\n",
        "        indexes = self.indexes[index * self.batch_size:(index + 1) * self.batch_size]\n",
        "\n",
        "        # Find list of IDs\n",
        "        itemListTemp = [self.itemList[k] for k in indexes]\n",
        "\n",
        "        # Generate data\n",
        "        X = self._generate_X(itemListTemp)\n",
        "        # X = tf.keras.applications.densenet.preprocess_input(X)\n",
        "\n",
        "        if self.to_fit:\n",
        "            y = self._generate_y(itemListTemp)\n",
        "            return X, y\n",
        "        else:\n",
        "            return X\n",
        "\n",
        "    def on_epoch_end(self):\n",
        "        self.indexes = np.arange(len(self.itemList))\n",
        "        if self.shuffle == True:\n",
        "            np.random.shuffle(self.indexes)\n",
        "\n",
        "    def _generate_X(self, itemListTemp):\n",
        "      for i in itemListTemp:\n",
        "        originalImage = Image.open(f'{INPUT_DIR}{i[1]}/{i[0]}').convert('L').convert('RGB') # open up\n",
        "        originalShape = originalImage.size\n",
        "        \n",
        "        # predict mask and cal bounding box\n",
        "        ## pre proc input\n",
        "        maskResize = originalImage.resize((64, 64))\n",
        "        maskArray = np.array(maskResize)\n",
        "        maskArray = (maskArray - np.amin(maskArray)) / (np.amax(maskArray) - np.amin(maskArray) + 1e-8)\n",
        "        maskInput = maskArray[np.newaxis, :, :, :]\n",
        "\n",
        "        ## predict\n",
        "        maskArray = unetModel.predict(maskInput)\n",
        "        maskArray = maskArray[0, :, :, 0]\n",
        "\n",
        "        ## gen mask and cal min bounding rec\n",
        "        maskArray = np.array(Image.fromarray(np.uint8(maskArray * 255)).resize(originalShape))\n",
        "        maskArray = (maskArray - np.amin(maskArray)) / (np.amax(maskArray) - np.amin(maskArray) + 1e-8)\n",
        "        maskArray[maskArray >= .6] = 1\n",
        "        maskArray[maskArray < .6] = 0\n",
        "        where = np.array(np.where(maskArray))\n",
        "        x1, y1 = np.amin(where, axis=1)\n",
        "        x2, y2 = np.amax(where, axis=1)\n",
        "\n",
        "        # height and width\n",
        "        cropped_h = np.abs(x1 - x2)\n",
        "        cropped_w = np.abs(y1 - y2)\n",
        "\n",
        "        # increase perc\n",
        "        perc = 0.05\n",
        "        x2 = np.clip(x2 + (cropped_h * perc * 2), 0, originalShape[1])\n",
        "        y1 = np.clip(y1 - (cropped_w * perc), 0, originalShape[0])\n",
        "        y2 = np.clip(y2 + (cropped_w * perc), 0, originalShape[0])\n",
        "        \n",
        "        # convert to int\n",
        "        x2 = math.floor(x2)\n",
        "        y1 = math.ceil(y1)\n",
        "        y2 = math.floor(y2)\n",
        "\n",
        "        # create img\n",
        "        arrayImage = np.array(originalImage)\n",
        "        arrayImage = arrayImage[x1:x2, y1:y2]\n",
        "        arrayImage = np.array(Image.fromarray(arrayImage).resize((224, 224)))\n",
        "        # save\n",
        "        arrayImage = (arrayImage - np.amin(arrayImage)) / (np.amax(arrayImage) - np.amin(arrayImage) + 1e-8)\n",
        "\n",
        "        \n",
        "        if i == itemListTemp[0]:\n",
        "          imgs = arrayImage[np.newaxis, :, :, :]\n",
        "        else:\n",
        "          imgs = np.concatenate((imgs, arrayImage[np.newaxis, :, :, :]), axis = 0)\n",
        "\n",
        "      arg1 = imgs\n",
        "\n",
        "      return arg1#[arg1, arg2]\n",
        "        \n",
        "\n",
        "    def _generate_y(self, itemListTemp):\n",
        "      # one hot encoder\n",
        "      onehotArr = np.eye(self.classesNo)\n",
        "\n",
        "      for i in itemListTemp:\n",
        "        if i == itemListTemp[0]:\n",
        "          t = onehotArr[int(i[2])]\n",
        "          labels = t[np.newaxis, :]\n",
        "        else:\n",
        "          t = onehotArr[int(i[2])]\n",
        "          labels = np.concatenate((labels, t[np.newaxis, :]), axis = 0)\n",
        "\n",
        "      return labels"
      ],
      "execution_count": 17,
      "outputs": []
    },
    {
      "cell_type": "markdown",
      "metadata": {
        "id": "JgWDJw_f8-FD",
        "colab_type": "text"
      },
      "source": [
        "# Model"
      ]
    },
    {
      "cell_type": "code",
      "metadata": {
        "id": "rZrMA3ZX5wHk",
        "colab_type": "code",
        "colab": {}
      },
      "source": [
        "# build model\n",
        "def getModel(finalClasses = len(imgClasses), topTrain = 20, usedrop = True, droprate = .5, dense = None):\n",
        "  \n",
        "  ## load densenet121 model\n",
        "  dense121Input = Input(shape = (224, 224, 3), name = 'densenet121_input')\n",
        "  dense121Model = tf.keras.applications.DenseNet121(weights = 'imagenet', include_top = False, input_shape = (224, 224, 3), input_tensor = dense121Input)\n",
        "  for layer in dense121Model.layers[:-1 * topTrain]:\n",
        "    layer.trainable = False\n",
        "\n",
        "  # combine models as one\n",
        "  ## model input layer\n",
        "  inputLayer = Input(shape = (224, 224, 3), name = 'model_input')\n",
        "\n",
        "  # load chexnet Model\n",
        "  dense121Output = dense121Model(inputLayer)\n",
        "  batchNorm = BatchNormalization()(dense121Output)\n",
        "  chexnetAvg = AveragePooling2D(4)(batchNorm)\n",
        "  x = Flatten()(chexnetAvg)\n",
        "\n",
        "  if dense == None:\n",
        "    if usedrop:\n",
        "      x = Dropout(droprate)(x)\n",
        "  else:\n",
        "    for denseInfo in dense:\n",
        "      x = Dense(denseInfo)(x)\n",
        "      if usedrop:\n",
        "        x = Dropout(droprate)(x)\n",
        "  \n",
        "  dense121Output = Dense(finalClasses, activation = 'softmax')(x)  \n",
        "\n",
        "  model = Model(inputLayer, dense121Output, name = 'combined_model')\n",
        "\n",
        "  return model\n",
        "\n",
        "# # load model\n",
        "model = getModel()"
      ],
      "execution_count": 19,
      "outputs": []
    },
    {
      "cell_type": "code",
      "metadata": {
        "id": "oUASRIr99fmM",
        "colab_type": "code",
        "colab": {}
      },
      "source": [
        ""
      ],
      "execution_count": null,
      "outputs": []
    }
  ]
}