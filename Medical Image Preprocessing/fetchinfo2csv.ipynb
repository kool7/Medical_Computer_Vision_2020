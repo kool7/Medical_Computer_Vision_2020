{
 "cells": [
  {
   "cell_type": "markdown",
   "metadata": {},
   "source": [
    "# Convert to JPG, JPEG and PNG and store information in csv file\n",
    "This notebook contains code to convert dicom file to desired image format. It also saves patient imformation in csv file.\n"
   ]
  },
  {
   "cell_type": "code",
   "execution_count": 1,
   "metadata": {},
   "outputs": [],
   "source": [
    "# Loading libraries\n",
    "import os\n",
    "import cv2\n",
    "import csv\n",
    "import glob\n",
    "import pydicom\n",
    "import pandas as pd\n",
    "from PIL import Image\n",
    "import matplotlib.pyplot as plt"
   ]
  },
  {
   "cell_type": "code",
   "execution_count": 3,
   "metadata": {},
   "outputs": [],
   "source": [
    "# PNG format\n",
    "PNG = True\n",
    "\n",
    "# Input folder path\n",
    "DICOM = \"DICOM\"\n",
    "\n",
    "# Output folder path (change folder name to PNG or JPG if required)\n",
    "JPEG = \"JPEG\"\n",
    "PNG = \"PNG\"\n",
    "\n",
    "# List of available attributes in dicom image\n",
    "attributes = pd.read_csv(\"dicom_attributes.csv\")        "
   ]
  },
  {
   "cell_type": "code",
   "execution_count": 21,
   "metadata": {},
   "outputs": [
    {
     "name": "stdout",
     "output_type": "stream",
     "text": [
      "Image 0 converted to PNG.\n",
      "Image 1 converted to PNG.\n",
      "Image 2 converted to PNG.\n"
     ]
    }
   ],
   "source": [
    "# looping over every dicom image and converting it to jpeg/png and saving in desired directory.\n",
    "with open('information.csv', 'w', newline='') as csvfile:\n",
    "    fieldnames = list(attributes[\"Description\"])\n",
    "    writer = csv.writer(csvfile, delimiter=',')\n",
    "    writer.writerow(fieldnames)\n",
    "    for index, image in enumerate(os.listdir(DICOM)):\n",
    "        dicom = pydicom.dcmread(os.path.join(DICOM, image))\n",
    "        rows = []\n",
    "        pixel_array = dicom.pixel_array\n",
    "        if PNG == False:\n",
    "            image = image.replace('.dcm', '.jpeg')\n",
    "        else:\n",
    "            image = image.replace('.dcm', '.png')\n",
    "        cv2.imwrite(os.path.join(PNG, image), pixel_array)\n",
    "        \n",
    "        print(\"Image {} converted to {}.\".format(index, PNG))\n",
    "        \n",
    "        # Saving information in csv file.\n",
    "        for field in fieldnames:\n",
    "            if dicom.data_element(field) is None:\n",
    "                rows.append('')\n",
    "            else:\n",
    "                x = str(dicom.data_element(field)).replace(\"'\", \"\")\n",
    "                y = x.find(\":\")\n",
    "                x = x[y+2:]\n",
    "                rows.append(x)\n",
    "        writer.writerow(rows)"
   ]
  },
  {
   "cell_type": "code",
   "execution_count": null,
   "metadata": {},
   "outputs": [],
   "source": [
    "pd.read_csv('ind')"
   ]
  }
 ],
 "metadata": {
  "kernelspec": {
   "display_name": "Python [conda env:cv]",
   "language": "python",
   "name": "conda-env-cv-py"
  },
  "language_info": {
   "codemirror_mode": {
    "name": "ipython",
    "version": 3
   },
   "file_extension": ".py",
   "mimetype": "text/x-python",
   "name": "python",
   "nbconvert_exporter": "python",
   "pygments_lexer": "ipython3",
   "version": "3.6.7"
  }
 },
 "nbformat": 4,
 "nbformat_minor": 4
}
