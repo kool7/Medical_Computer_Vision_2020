{
 "cells": [
  {
   "cell_type": "markdown",
   "metadata": {},
   "source": [
    "# Convert Dicom to other image format\n",
    "\n",
    "This notebook contains code to convert dicom file to desired image format. It also saves patient imformation in csv file."
   ]
  },
  {
   "cell_type": "markdown",
   "metadata": {},
   "source": [
    "## Only Convert to JPG, JPEG and PNG"
   ]
  },
  {
   "cell_type": "code",
   "execution_count": 7,
   "metadata": {},
   "outputs": [],
   "source": [
    "# Loading libraries\n",
    "import os\n",
    "import cv2\n",
    "import csv\n",
    "import glob\n",
    "import pydicom\n",
    "import pandas as pd\n",
    "from PIL import Image\n",
    "import matplotlib.pyplot as plt"
   ]
  },
  {
   "cell_type": "code",
   "execution_count": 12,
   "metadata": {},
   "outputs": [],
   "source": [
    "# PNG format\n",
    "PNG = False\n",
    "\n",
    "# Input folder path\n",
    "DICOM = \"DICOM\"\n",
    "\n",
    "# Output folder path (change folder name to PNG or JPG if required)\n",
    "JPEG = \"JPEG\"\n",
    "\n",
    "# Iterating over images in folder and saving desired format in other folder.\n",
    "for index, image in enumerate(os.listdir(DICOM)):\n",
    "    dicom = pydicom.dcmread(os.path.join(DICOM, image))\n",
    "    pixel_array = dicom.pixel_array\n",
    "    if PNG == False:\n",
    "        image = image.replace('.dcm', '.jpeg')\n",
    "    else:\n",
    "        image = image.replace('.dcm', '.png')\n",
    "    cv2.imwrite(os.path.join(JPEG, image), pixel_array)"
   ]
  }
 ],
 "metadata": {
  "kernelspec": {
   "display_name": "Python [conda env:cv] *",
   "language": "python",
   "name": "conda-env-cv-py"
  },
  "language_info": {
   "codemirror_mode": {
    "name": "ipython",
    "version": 3
   },
   "file_extension": ".py",
   "mimetype": "text/x-python",
   "name": "python",
   "nbconvert_exporter": "python",
   "pygments_lexer": "ipython3",
   "version": "3.6.7"
  }
 },
 "nbformat": 4,
 "nbformat_minor": 4
}
